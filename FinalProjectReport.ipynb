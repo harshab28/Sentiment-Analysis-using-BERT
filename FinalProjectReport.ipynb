{
  "cells": [
    {
      "cell_type": "markdown",
      "metadata": {
        "id": "9yfq6QEMg92-"
      },
      "source": [
        "# Sentiment Analysis of Tweets.\n",
        "\n",
        "*By Harsha Vardhan Bollineni, December, 2023*"
      ]
    },
    {
      "cell_type": "markdown",
      "metadata": {
        "id": "u6cqHBSYCDaF"
      },
      "source": [
        "# Introduction"
      ]
    },
    {
      "cell_type": "markdown",
      "metadata": {
        "id": "iGSQxEeSBtsO"
      },
      "source": [
        "We aim to conduct Twitter sentiment analysis, which involves assessing the sentiment of tweets and assigning a toxicity score of 0 for negative tweets, 2 for neutral ones, and 4 for positive tweets[2]. This analysis holds significant importance in various contexts.For brands, it offers a means to manage their reputation and monitor their online image. Additionally, it aids in identifying and addressing troll accounts, particularly those that engage in excessive and widespread trolling, including potentially harmful bot accounts that can be reported or blocked. In the realm of social analysis, this sentiment analysis plays a crucial role. Social media platforms are increasingly utilized for political campaigns and agendas. We've witnessed the profound influence of social media on public perceptions of various issues[3]. Therefore, sentiment analysis can assist in scrutinizing and discerning whether these campaigns have political motivations, such as spreading discord and animosity.\n",
        "\n",
        "To conduct this analysis, we'll start by breaking down the text into individual words and eliminating common stop words. We'll then utilize a range of machine learning algorithms for tweet classification. Our approach will involve the application of Natural Language Processing (NLP) technique using transformer models such as BERT. Once these steps are completed, we'll proceed with training the model and assessing its performance using various metrics. Additionally, we intend to leverage deep learning architectures such as Bi-Directional Long Short-Term Memory (LSTM) to enhance the accuracy and effectiveness of the analysis.\n",
        "In BERT model, we use different optimizers like AdamW, SGD to compare the the performance of the transformer model against different optimizers.\n",
        "\n",
        "In our performance evaluation against the dataset, the BERT transformer model emerged as the superior performer, demonstrating higher accuracy and more effective classification compared to the bi-directional LSTM model. The term \"accuracy\" here refers to the ability of the models to correctly predict the sentiment labels for the given tweets.\n",
        "\n",
        "The BERT transformer model, known for its state-of-the-art performance in natural language processing tasks, outperformed the bi-directional LSTM in terms of accurately categorizing tweets into their respective sentiment classes: negative (0), neutral (2), and positive (4). This superior performance suggests that the BERT model captured intricate contextual relationships and nuances within the tweets, enabling it to make more accurate predictionsOn the other hand, while the bi-directional LSTM achieved decent accuracy, it fell short compared to the BERT transformer. The term \"decent accuracy\" implies that the LSTM model still performed reasonably well in classifying sentiments, but it did not reach the same level of accuracy and effectiveness as the BERT model.In summary, our comparative analysis indicates that the BERT transformer model is a more powerful tool for Twitter sentiment analysis in this context, providing better accuracy and classification capabilities. The choice between models ultimately depends on the specific requirements of the sentiment analysis task and the trade-offs between model complexity and performance."
      ]
    },
    {
      "cell_type": "markdown",
      "metadata": {
        "id": "CzmI6YwxYEI3"
      },
      "source": [
        "# Dataset and Preprocessing"
      ]
    },
    {
      "cell_type": "markdown",
      "metadata": {
        "id": "wKbD5EjWX6Vj"
      },
      "source": [
        "The Sentiment140 dataset[2], a valuable resource for Twitter sentiment analysis, encompasses a vast collection of approximately 1.6 million tweets, making it one of the largest and diverse datasets in this domain. The dataset, available on Kaggle, is meticulously categorized into two sentiment classes: positive and negative. Each tweet within the dataset is annotated based on the prevailing sentiment it conveys, providing a rich and varied set of instances for training and evaluating sentiment analysis models. Originating from diverse Twitter users, the dataset captures sentiments expressed across a spectrum of topics and domains, contributing to the robustness and applicability of models trained on this data. Researchers and practitioners often leverage the Sentiment140 dataset for its scale and comprehensiveness, making it a benchmark dataset in the field of sentiment analysis and natural language processing. The dataset's accessibility on Kaggle facilitates easy exploration and utilization, fostering advancements in sentiment analysis methodologies and techniques. We have taken a subset of the dataset as 1.6 million tweets consumed a lot of computational hours and time for preprocessing and training the model. So we have taken, 10000 tweets to perform the analysis. Data cleaning is a crucial step to be done before the data is fed into any deep learning model to ensure the accuracy and reliability of results. Poor-quality or noisy data can lead to biased sentiment predictions and misinterpretations. Data cleaning involves techniques to preprocess and refine the text data, addressing issues such as noise in data, presence of duplicates, imbalanced data, missing features, etc.The text data from the Sentiment140 dataset was first pre-processed by applying techniques such as tokenization, stemming, stop-word and punctuation removal. By performing tokenization only the top 5,000 most frequent words in the text data were considered, ignoring the less frequent ones. This is done to manage the vocabulary size and focus on the most significant words in the dataset, which can help improve the efficiency of text processing and modeling. Stemming in data preprocessing involves reducing words to their root form to simplify analysis by normalizing variations of words by removing prefixes or suffixes. Stemming and stopword removal was done using the Natural Language Toolkit (NLTK) library.\n",
        "\n",
        "In our preprocessing pipeline, we enforce a uniform length of 250 words for each tweet to ensure consistent input dimensions for our model. For tweets shorter than 250 words, we employ zero-padding to reach the specified length. This standardization facilitates the model's handling of variable-length inputs.The decision to adopt pre-padding over post-padding is informed by insights from a notable 2019 paper titled \"Effects of Padding on LSTMs and CNNs.\"[4] The research findings highlight a significant impact on LSTM performance based on the padding strategy employed. Specifically, the paper reveals that, unlike in Convolutional Neural Networks (CNNs), pre-padding substantially outperforms post-padding in terms of accuracy. The observed accuracy rates underscore the importance of this choice, with pre-padding exhibiting a notably higher accuracy of 80.321%, compared to the comparatively lower accuracy of 50.117% associated with post-padding when applied to LSTMs.\n",
        "Furthermore, to facilitate robust model evaluation, we partition the dataset into training and test sets, maintaining an 80:20 ratio. This division ensures a comprehensive assessment of the model's generalization capabilities on unseen data."
      ]
    },
    {
      "cell_type": "code",
      "execution_count": null,
      "metadata": {
        "id": "NZVgM-iqVmOZ"
      },
      "outputs": [],
      "source": [
        "import pandas as pd\n",
        "import numpy as np\n",
        "import nltk\n",
        "import re\n",
        "import tensorflow as tf\n",
        "from sklearn.model_selection import train_test_split\n",
        "from tensorflow.keras.preprocessing.text import Tokenizer\n",
        "from tensorflow.keras.preprocessing.sequence import pad_sequences"
      ]
    },
    {
      "cell_type": "code",
      "execution_count": null,
      "metadata": {
        "id": "PMY6tmzPSjNE"
      },
      "outputs": [],
      "source": [
        "import matplotlib.pyplot as plt\n",
        "from sklearn.metrics import confusion_matrix, classification_report, accuracy_score"
      ]
    },
    {
      "cell_type": "code",
      "execution_count": null,
      "metadata": {
        "colab": {
          "base_uri": "https://localhost:8080/"
        },
        "id": "eHCGiX3GVPKB",
        "outputId": "ca1c8cd8-3f0c-4f53-f6b6-7ac7017e7f33"
      },
      "outputs": [
        {
          "name": "stderr",
          "output_type": "stream",
          "text": [
            "[nltk_data] Downloading package stopwords to /root/nltk_data...\n",
            "[nltk_data]   Unzipping corpora/stopwords.zip.\n"
          ]
        },
        {
          "data": {
            "text/plain": [
              "True"
            ]
          },
          "execution_count": 5,
          "metadata": {},
          "output_type": "execute_result"
        }
      ],
      "source": [
        "nltk.download('stopwords')"
      ]
    },
    {
      "cell_type": "code",
      "execution_count": null,
      "metadata": {
        "id": "kLaZdGy6WUma"
      },
      "outputs": [],
      "source": [
        "cols = [\"target\", \"ids\", \"date\", \"flag\", \"user\", \"text\"]\n",
        "data_encoding = \"ISO-8859-1\""
      ]
    },
    {
      "cell_type": "code",
      "execution_count": null,
      "metadata": {
        "id": "SWn6FLQtVuQH"
      },
      "outputs": [],
      "source": [
        "data = pd.read_csv('training.1600000.processed.noemoticon.csv', encoding=data_encoding, names=cols)"
      ]
    },
    {
      "cell_type": "code",
      "execution_count": null,
      "metadata": {
        "colab": {
          "base_uri": "https://localhost:8080/",
          "height": 206
        },
        "id": "sMjLFsyqWcm6",
        "outputId": "5095262b-e7a5-46af-8e47-289660dab577"
      },
      "outputs": [
        {
          "data": {
            "text/html": [
              "\n",
              "  <div id=\"df-058fecd4-d125-4b2b-b8fc-ac6046931313\" class=\"colab-df-container\">\n",
              "    <div>\n",
              "<style scoped>\n",
              "    .dataframe tbody tr th:only-of-type {\n",
              "        vertical-align: middle;\n",
              "    }\n",
              "\n",
              "    .dataframe tbody tr th {\n",
              "        vertical-align: top;\n",
              "    }\n",
              "\n",
              "    .dataframe thead th {\n",
              "        text-align: right;\n",
              "    }\n",
              "</style>\n",
              "<table border=\"1\" class=\"dataframe\">\n",
              "  <thead>\n",
              "    <tr style=\"text-align: right;\">\n",
              "      <th></th>\n",
              "      <th>target</th>\n",
              "      <th>ids</th>\n",
              "      <th>date</th>\n",
              "      <th>flag</th>\n",
              "      <th>user</th>\n",
              "      <th>text</th>\n",
              "    </tr>\n",
              "  </thead>\n",
              "  <tbody>\n",
              "    <tr>\n",
              "      <th>0</th>\n",
              "      <td>0</td>\n",
              "      <td>1467810369</td>\n",
              "      <td>Mon Apr 06 22:19:45 PDT 2009</td>\n",
              "      <td>NO_QUERY</td>\n",
              "      <td>_TheSpecialOne_</td>\n",
              "      <td>@switchfoot http://twitpic.com/2y1zl - Awww, t...</td>\n",
              "    </tr>\n",
              "    <tr>\n",
              "      <th>1</th>\n",
              "      <td>0</td>\n",
              "      <td>1467810672</td>\n",
              "      <td>Mon Apr 06 22:19:49 PDT 2009</td>\n",
              "      <td>NO_QUERY</td>\n",
              "      <td>scotthamilton</td>\n",
              "      <td>is upset that he can't update his Facebook by ...</td>\n",
              "    </tr>\n",
              "    <tr>\n",
              "      <th>2</th>\n",
              "      <td>0</td>\n",
              "      <td>1467810917</td>\n",
              "      <td>Mon Apr 06 22:19:53 PDT 2009</td>\n",
              "      <td>NO_QUERY</td>\n",
              "      <td>mattycus</td>\n",
              "      <td>@Kenichan I dived many times for the ball. Man...</td>\n",
              "    </tr>\n",
              "    <tr>\n",
              "      <th>3</th>\n",
              "      <td>0</td>\n",
              "      <td>1467811184</td>\n",
              "      <td>Mon Apr 06 22:19:57 PDT 2009</td>\n",
              "      <td>NO_QUERY</td>\n",
              "      <td>ElleCTF</td>\n",
              "      <td>my whole body feels itchy and like its on fire</td>\n",
              "    </tr>\n",
              "    <tr>\n",
              "      <th>4</th>\n",
              "      <td>0</td>\n",
              "      <td>1467811193</td>\n",
              "      <td>Mon Apr 06 22:19:57 PDT 2009</td>\n",
              "      <td>NO_QUERY</td>\n",
              "      <td>Karoli</td>\n",
              "      <td>@nationwideclass no, it's not behaving at all....</td>\n",
              "    </tr>\n",
              "  </tbody>\n",
              "</table>\n",
              "</div>\n",
              "    <div class=\"colab-df-buttons\">\n",
              "\n",
              "  <div class=\"colab-df-container\">\n",
              "    <button class=\"colab-df-convert\" onclick=\"convertToInteractive('df-058fecd4-d125-4b2b-b8fc-ac6046931313')\"\n",
              "            title=\"Convert this dataframe to an interactive table.\"\n",
              "            style=\"display:none;\">\n",
              "\n",
              "  <svg xmlns=\"http://www.w3.org/2000/svg\" height=\"24px\" viewBox=\"0 -960 960 960\">\n",
              "    <path d=\"M120-120v-720h720v720H120Zm60-500h600v-160H180v160Zm220 220h160v-160H400v160Zm0 220h160v-160H400v160ZM180-400h160v-160H180v160Zm440 0h160v-160H620v160ZM180-180h160v-160H180v160Zm440 0h160v-160H620v160Z\"/>\n",
              "  </svg>\n",
              "    </button>\n",
              "\n",
              "  <style>\n",
              "    .colab-df-container {\n",
              "      display:flex;\n",
              "      gap: 12px;\n",
              "    }\n",
              "\n",
              "    .colab-df-convert {\n",
              "      background-color: #E8F0FE;\n",
              "      border: none;\n",
              "      border-radius: 50%;\n",
              "      cursor: pointer;\n",
              "      display: none;\n",
              "      fill: #1967D2;\n",
              "      height: 32px;\n",
              "      padding: 0 0 0 0;\n",
              "      width: 32px;\n",
              "    }\n",
              "\n",
              "    .colab-df-convert:hover {\n",
              "      background-color: #E2EBFA;\n",
              "      box-shadow: 0px 1px 2px rgba(60, 64, 67, 0.3), 0px 1px 3px 1px rgba(60, 64, 67, 0.15);\n",
              "      fill: #174EA6;\n",
              "    }\n",
              "\n",
              "    .colab-df-buttons div {\n",
              "      margin-bottom: 4px;\n",
              "    }\n",
              "\n",
              "    [theme=dark] .colab-df-convert {\n",
              "      background-color: #3B4455;\n",
              "      fill: #D2E3FC;\n",
              "    }\n",
              "\n",
              "    [theme=dark] .colab-df-convert:hover {\n",
              "      background-color: #434B5C;\n",
              "      box-shadow: 0px 1px 3px 1px rgba(0, 0, 0, 0.15);\n",
              "      filter: drop-shadow(0px 1px 2px rgba(0, 0, 0, 0.3));\n",
              "      fill: #FFFFFF;\n",
              "    }\n",
              "  </style>\n",
              "\n",
              "    <script>\n",
              "      const buttonEl =\n",
              "        document.querySelector('#df-058fecd4-d125-4b2b-b8fc-ac6046931313 button.colab-df-convert');\n",
              "      buttonEl.style.display =\n",
              "        google.colab.kernel.accessAllowed ? 'block' : 'none';\n",
              "\n",
              "      async function convertToInteractive(key) {\n",
              "        const element = document.querySelector('#df-058fecd4-d125-4b2b-b8fc-ac6046931313');\n",
              "        const dataTable =\n",
              "          await google.colab.kernel.invokeFunction('convertToInteractive',\n",
              "                                                    [key], {});\n",
              "        if (!dataTable) return;\n",
              "\n",
              "        const docLinkHtml = 'Like what you see? Visit the ' +\n",
              "          '<a target=\"_blank\" href=https://colab.research.google.com/notebooks/data_table.ipynb>data table notebook</a>'\n",
              "          + ' to learn more about interactive tables.';\n",
              "        element.innerHTML = '';\n",
              "        dataTable['output_type'] = 'display_data';\n",
              "        await google.colab.output.renderOutput(dataTable, element);\n",
              "        const docLink = document.createElement('div');\n",
              "        docLink.innerHTML = docLinkHtml;\n",
              "        element.appendChild(docLink);\n",
              "      }\n",
              "    </script>\n",
              "  </div>\n",
              "\n",
              "\n",
              "<div id=\"df-972a9416-b9c0-424c-9cc4-7aba2e058649\">\n",
              "  <button class=\"colab-df-quickchart\" onclick=\"quickchart('df-972a9416-b9c0-424c-9cc4-7aba2e058649')\"\n",
              "            title=\"Suggest charts\"\n",
              "            style=\"display:none;\">\n",
              "\n",
              "<svg xmlns=\"http://www.w3.org/2000/svg\" height=\"24px\"viewBox=\"0 0 24 24\"\n",
              "     width=\"24px\">\n",
              "    <g>\n",
              "        <path d=\"M19 3H5c-1.1 0-2 .9-2 2v14c0 1.1.9 2 2 2h14c1.1 0 2-.9 2-2V5c0-1.1-.9-2-2-2zM9 17H7v-7h2v7zm4 0h-2V7h2v10zm4 0h-2v-4h2v4z\"/>\n",
              "    </g>\n",
              "</svg>\n",
              "  </button>\n",
              "\n",
              "<style>\n",
              "  .colab-df-quickchart {\n",
              "      --bg-color: #E8F0FE;\n",
              "      --fill-color: #1967D2;\n",
              "      --hover-bg-color: #E2EBFA;\n",
              "      --hover-fill-color: #174EA6;\n",
              "      --disabled-fill-color: #AAA;\n",
              "      --disabled-bg-color: #DDD;\n",
              "  }\n",
              "\n",
              "  [theme=dark] .colab-df-quickchart {\n",
              "      --bg-color: #3B4455;\n",
              "      --fill-color: #D2E3FC;\n",
              "      --hover-bg-color: #434B5C;\n",
              "      --hover-fill-color: #FFFFFF;\n",
              "      --disabled-bg-color: #3B4455;\n",
              "      --disabled-fill-color: #666;\n",
              "  }\n",
              "\n",
              "  .colab-df-quickchart {\n",
              "    background-color: var(--bg-color);\n",
              "    border: none;\n",
              "    border-radius: 50%;\n",
              "    cursor: pointer;\n",
              "    display: none;\n",
              "    fill: var(--fill-color);\n",
              "    height: 32px;\n",
              "    padding: 0;\n",
              "    width: 32px;\n",
              "  }\n",
              "\n",
              "  .colab-df-quickchart:hover {\n",
              "    background-color: var(--hover-bg-color);\n",
              "    box-shadow: 0 1px 2px rgba(60, 64, 67, 0.3), 0 1px 3px 1px rgba(60, 64, 67, 0.15);\n",
              "    fill: var(--button-hover-fill-color);\n",
              "  }\n",
              "\n",
              "  .colab-df-quickchart-complete:disabled,\n",
              "  .colab-df-quickchart-complete:disabled:hover {\n",
              "    background-color: var(--disabled-bg-color);\n",
              "    fill: var(--disabled-fill-color);\n",
              "    box-shadow: none;\n",
              "  }\n",
              "\n",
              "  .colab-df-spinner {\n",
              "    border: 2px solid var(--fill-color);\n",
              "    border-color: transparent;\n",
              "    border-bottom-color: var(--fill-color);\n",
              "    animation:\n",
              "      spin 1s steps(1) infinite;\n",
              "  }\n",
              "\n",
              "  @keyframes spin {\n",
              "    0% {\n",
              "      border-color: transparent;\n",
              "      border-bottom-color: var(--fill-color);\n",
              "      border-left-color: var(--fill-color);\n",
              "    }\n",
              "    20% {\n",
              "      border-color: transparent;\n",
              "      border-left-color: var(--fill-color);\n",
              "      border-top-color: var(--fill-color);\n",
              "    }\n",
              "    30% {\n",
              "      border-color: transparent;\n",
              "      border-left-color: var(--fill-color);\n",
              "      border-top-color: var(--fill-color);\n",
              "      border-right-color: var(--fill-color);\n",
              "    }\n",
              "    40% {\n",
              "      border-color: transparent;\n",
              "      border-right-color: var(--fill-color);\n",
              "      border-top-color: var(--fill-color);\n",
              "    }\n",
              "    60% {\n",
              "      border-color: transparent;\n",
              "      border-right-color: var(--fill-color);\n",
              "    }\n",
              "    80% {\n",
              "      border-color: transparent;\n",
              "      border-right-color: var(--fill-color);\n",
              "      border-bottom-color: var(--fill-color);\n",
              "    }\n",
              "    90% {\n",
              "      border-color: transparent;\n",
              "      border-bottom-color: var(--fill-color);\n",
              "    }\n",
              "  }\n",
              "</style>\n",
              "\n",
              "  <script>\n",
              "    async function quickchart(key) {\n",
              "      const quickchartButtonEl =\n",
              "        document.querySelector('#' + key + ' button');\n",
              "      quickchartButtonEl.disabled = true;  // To prevent multiple clicks.\n",
              "      quickchartButtonEl.classList.add('colab-df-spinner');\n",
              "      try {\n",
              "        const charts = await google.colab.kernel.invokeFunction(\n",
              "            'suggestCharts', [key], {});\n",
              "      } catch (error) {\n",
              "        console.error('Error during call to suggestCharts:', error);\n",
              "      }\n",
              "      quickchartButtonEl.classList.remove('colab-df-spinner');\n",
              "      quickchartButtonEl.classList.add('colab-df-quickchart-complete');\n",
              "    }\n",
              "    (() => {\n",
              "      let quickchartButtonEl =\n",
              "        document.querySelector('#df-972a9416-b9c0-424c-9cc4-7aba2e058649 button');\n",
              "      quickchartButtonEl.style.display =\n",
              "        google.colab.kernel.accessAllowed ? 'block' : 'none';\n",
              "    })();\n",
              "  </script>\n",
              "</div>\n",
              "\n",
              "    </div>\n",
              "  </div>\n"
            ],
            "text/plain": [
              "   target         ids                          date      flag  \\\n",
              "0       0  1467810369  Mon Apr 06 22:19:45 PDT 2009  NO_QUERY   \n",
              "1       0  1467810672  Mon Apr 06 22:19:49 PDT 2009  NO_QUERY   \n",
              "2       0  1467810917  Mon Apr 06 22:19:53 PDT 2009  NO_QUERY   \n",
              "3       0  1467811184  Mon Apr 06 22:19:57 PDT 2009  NO_QUERY   \n",
              "4       0  1467811193  Mon Apr 06 22:19:57 PDT 2009  NO_QUERY   \n",
              "\n",
              "              user                                               text  \n",
              "0  _TheSpecialOne_  @switchfoot http://twitpic.com/2y1zl - Awww, t...  \n",
              "1    scotthamilton  is upset that he can't update his Facebook by ...  \n",
              "2         mattycus  @Kenichan I dived many times for the ball. Man...  \n",
              "3          ElleCTF    my whole body feels itchy and like its on fire   \n",
              "4           Karoli  @nationwideclass no, it's not behaving at all....  "
            ]
          },
          "execution_count": 6,
          "metadata": {},
          "output_type": "execute_result"
        }
      ],
      "source": [
        "data.head(5)"
      ]
    },
    {
      "cell_type": "code",
      "execution_count": null,
      "metadata": {
        "colab": {
          "base_uri": "https://localhost:8080/"
        },
        "id": "fUigrRQWSveg",
        "outputId": "726d9ccd-26b9-40f7-b73c-6acfd6b3e6e6"
      },
      "outputs": [
        {
          "data": {
            "text/plain": [
              "1600000"
            ]
          },
          "execution_count": 7,
          "metadata": {},
          "output_type": "execute_result"
        }
      ],
      "source": [
        "len(data)"
      ]
    },
    {
      "cell_type": "code",
      "execution_count": null,
      "metadata": {
        "id": "3aGEfRNwWKAh"
      },
      "outputs": [],
      "source": [
        "datasub1=data.head(1000)\n",
        "datasub2=data.iloc[990000:1000000]\n",
        "dataset=pd.concat([datasub1,datasub2], ignore_index=True)"
      ]
    },
    {
      "cell_type": "code",
      "execution_count": null,
      "metadata": {
        "colab": {
          "base_uri": "https://localhost:8080/",
          "height": 597
        },
        "id": "rZmgCmqSaNCv",
        "outputId": "bb85146e-36d5-4415-a9ce-28f905897ee2"
      },
      "outputs": [
        {
          "data": {
            "text/html": [
              "\n",
              "  <div id=\"df-92e11e36-4bd0-411c-8514-11eecd42c855\" class=\"colab-df-container\">\n",
              "    <div>\n",
              "<style scoped>\n",
              "    .dataframe tbody tr th:only-of-type {\n",
              "        vertical-align: middle;\n",
              "    }\n",
              "\n",
              "    .dataframe tbody tr th {\n",
              "        vertical-align: top;\n",
              "    }\n",
              "\n",
              "    .dataframe thead th {\n",
              "        text-align: right;\n",
              "    }\n",
              "</style>\n",
              "<table border=\"1\" class=\"dataframe\">\n",
              "  <thead>\n",
              "    <tr style=\"text-align: right;\">\n",
              "      <th></th>\n",
              "      <th>target</th>\n",
              "      <th>ids</th>\n",
              "      <th>date</th>\n",
              "      <th>flag</th>\n",
              "      <th>user</th>\n",
              "      <th>text</th>\n",
              "    </tr>\n",
              "  </thead>\n",
              "  <tbody>\n",
              "    <tr>\n",
              "      <th>0</th>\n",
              "      <td>0</td>\n",
              "      <td>1467810369</td>\n",
              "      <td>Mon Apr 06 22:19:45 PDT 2009</td>\n",
              "      <td>NO_QUERY</td>\n",
              "      <td>_TheSpecialOne_</td>\n",
              "      <td>@switchfoot http://twitpic.com/2y1zl - Awww, t...</td>\n",
              "    </tr>\n",
              "    <tr>\n",
              "      <th>1</th>\n",
              "      <td>0</td>\n",
              "      <td>1467810672</td>\n",
              "      <td>Mon Apr 06 22:19:49 PDT 2009</td>\n",
              "      <td>NO_QUERY</td>\n",
              "      <td>scotthamilton</td>\n",
              "      <td>is upset that he can't update his Facebook by ...</td>\n",
              "    </tr>\n",
              "    <tr>\n",
              "      <th>2</th>\n",
              "      <td>0</td>\n",
              "      <td>1467810917</td>\n",
              "      <td>Mon Apr 06 22:19:53 PDT 2009</td>\n",
              "      <td>NO_QUERY</td>\n",
              "      <td>mattycus</td>\n",
              "      <td>@Kenichan I dived many times for the ball. Man...</td>\n",
              "    </tr>\n",
              "    <tr>\n",
              "      <th>3</th>\n",
              "      <td>0</td>\n",
              "      <td>1467811184</td>\n",
              "      <td>Mon Apr 06 22:19:57 PDT 2009</td>\n",
              "      <td>NO_QUERY</td>\n",
              "      <td>ElleCTF</td>\n",
              "      <td>my whole body feels itchy and like its on fire</td>\n",
              "    </tr>\n",
              "    <tr>\n",
              "      <th>4</th>\n",
              "      <td>0</td>\n",
              "      <td>1467811193</td>\n",
              "      <td>Mon Apr 06 22:19:57 PDT 2009</td>\n",
              "      <td>NO_QUERY</td>\n",
              "      <td>Karoli</td>\n",
              "      <td>@nationwideclass no, it's not behaving at all....</td>\n",
              "    </tr>\n",
              "    <tr>\n",
              "      <th>...</th>\n",
              "      <td>...</td>\n",
              "      <td>...</td>\n",
              "      <td>...</td>\n",
              "      <td>...</td>\n",
              "      <td>...</td>\n",
              "      <td>...</td>\n",
              "    </tr>\n",
              "    <tr>\n",
              "      <th>10995</th>\n",
              "      <td>4</td>\n",
              "      <td>1879942807</td>\n",
              "      <td>Thu May 21 23:36:19 PDT 2009</td>\n",
              "      <td>NO_QUERY</td>\n",
              "      <td>divabat</td>\n",
              "      <td>@healingsinger thank you, i needed that</td>\n",
              "    </tr>\n",
              "    <tr>\n",
              "      <th>10996</th>\n",
              "      <td>4</td>\n",
              "      <td>1879942922</td>\n",
              "      <td>Thu May 21 23:36:20 PDT 2009</td>\n",
              "      <td>NO_QUERY</td>\n",
              "      <td>nick1975</td>\n",
              "      <td>@vactress http://bit.ly/cADea  Maybe this is m...</td>\n",
              "    </tr>\n",
              "    <tr>\n",
              "      <th>10997</th>\n",
              "      <td>4</td>\n",
              "      <td>1879942975</td>\n",
              "      <td>Thu May 21 23:36:21 PDT 2009</td>\n",
              "      <td>NO_QUERY</td>\n",
              "      <td>znmeb</td>\n",
              "      <td>@Brat13 Hell, Windows 7 will be out of my pric...</td>\n",
              "    </tr>\n",
              "    <tr>\n",
              "      <th>10998</th>\n",
              "      <td>4</td>\n",
              "      <td>1879943113</td>\n",
              "      <td>Thu May 21 23:36:22 PDT 2009</td>\n",
              "      <td>NO_QUERY</td>\n",
              "      <td>virmani</td>\n",
              "      <td>@jigardoshi neah.. i wish! just reminiscing  r...</td>\n",
              "    </tr>\n",
              "    <tr>\n",
              "      <th>10999</th>\n",
              "      <td>4</td>\n",
              "      <td>1879943219</td>\n",
              "      <td>Thu May 21 23:36:24 PDT 2009</td>\n",
              "      <td>NO_QUERY</td>\n",
              "      <td>redcomet81</td>\n",
              "      <td>@MsTeagan ...and by the way: I rewatched Sun G...</td>\n",
              "    </tr>\n",
              "  </tbody>\n",
              "</table>\n",
              "<p>11000 rows × 6 columns</p>\n",
              "</div>\n",
              "    <div class=\"colab-df-buttons\">\n",
              "\n",
              "  <div class=\"colab-df-container\">\n",
              "    <button class=\"colab-df-convert\" onclick=\"convertToInteractive('df-92e11e36-4bd0-411c-8514-11eecd42c855')\"\n",
              "            title=\"Convert this dataframe to an interactive table.\"\n",
              "            style=\"display:none;\">\n",
              "\n",
              "  <svg xmlns=\"http://www.w3.org/2000/svg\" height=\"24px\" viewBox=\"0 -960 960 960\">\n",
              "    <path d=\"M120-120v-720h720v720H120Zm60-500h600v-160H180v160Zm220 220h160v-160H400v160Zm0 220h160v-160H400v160ZM180-400h160v-160H180v160Zm440 0h160v-160H620v160ZM180-180h160v-160H180v160Zm440 0h160v-160H620v160Z\"/>\n",
              "  </svg>\n",
              "    </button>\n",
              "\n",
              "  <style>\n",
              "    .colab-df-container {\n",
              "      display:flex;\n",
              "      gap: 12px;\n",
              "    }\n",
              "\n",
              "    .colab-df-convert {\n",
              "      background-color: #E8F0FE;\n",
              "      border: none;\n",
              "      border-radius: 50%;\n",
              "      cursor: pointer;\n",
              "      display: none;\n",
              "      fill: #1967D2;\n",
              "      height: 32px;\n",
              "      padding: 0 0 0 0;\n",
              "      width: 32px;\n",
              "    }\n",
              "\n",
              "    .colab-df-convert:hover {\n",
              "      background-color: #E2EBFA;\n",
              "      box-shadow: 0px 1px 2px rgba(60, 64, 67, 0.3), 0px 1px 3px 1px rgba(60, 64, 67, 0.15);\n",
              "      fill: #174EA6;\n",
              "    }\n",
              "\n",
              "    .colab-df-buttons div {\n",
              "      margin-bottom: 4px;\n",
              "    }\n",
              "\n",
              "    [theme=dark] .colab-df-convert {\n",
              "      background-color: #3B4455;\n",
              "      fill: #D2E3FC;\n",
              "    }\n",
              "\n",
              "    [theme=dark] .colab-df-convert:hover {\n",
              "      background-color: #434B5C;\n",
              "      box-shadow: 0px 1px 3px 1px rgba(0, 0, 0, 0.15);\n",
              "      filter: drop-shadow(0px 1px 2px rgba(0, 0, 0, 0.3));\n",
              "      fill: #FFFFFF;\n",
              "    }\n",
              "  </style>\n",
              "\n",
              "    <script>\n",
              "      const buttonEl =\n",
              "        document.querySelector('#df-92e11e36-4bd0-411c-8514-11eecd42c855 button.colab-df-convert');\n",
              "      buttonEl.style.display =\n",
              "        google.colab.kernel.accessAllowed ? 'block' : 'none';\n",
              "\n",
              "      async function convertToInteractive(key) {\n",
              "        const element = document.querySelector('#df-92e11e36-4bd0-411c-8514-11eecd42c855');\n",
              "        const dataTable =\n",
              "          await google.colab.kernel.invokeFunction('convertToInteractive',\n",
              "                                                    [key], {});\n",
              "        if (!dataTable) return;\n",
              "\n",
              "        const docLinkHtml = 'Like what you see? Visit the ' +\n",
              "          '<a target=\"_blank\" href=https://colab.research.google.com/notebooks/data_table.ipynb>data table notebook</a>'\n",
              "          + ' to learn more about interactive tables.';\n",
              "        element.innerHTML = '';\n",
              "        dataTable['output_type'] = 'display_data';\n",
              "        await google.colab.output.renderOutput(dataTable, element);\n",
              "        const docLink = document.createElement('div');\n",
              "        docLink.innerHTML = docLinkHtml;\n",
              "        element.appendChild(docLink);\n",
              "      }\n",
              "    </script>\n",
              "  </div>\n",
              "\n",
              "\n",
              "<div id=\"df-d3e765d2-948f-48c5-911a-787e687e6b3c\">\n",
              "  <button class=\"colab-df-quickchart\" onclick=\"quickchart('df-d3e765d2-948f-48c5-911a-787e687e6b3c')\"\n",
              "            title=\"Suggest charts\"\n",
              "            style=\"display:none;\">\n",
              "\n",
              "<svg xmlns=\"http://www.w3.org/2000/svg\" height=\"24px\"viewBox=\"0 0 24 24\"\n",
              "     width=\"24px\">\n",
              "    <g>\n",
              "        <path d=\"M19 3H5c-1.1 0-2 .9-2 2v14c0 1.1.9 2 2 2h14c1.1 0 2-.9 2-2V5c0-1.1-.9-2-2-2zM9 17H7v-7h2v7zm4 0h-2V7h2v10zm4 0h-2v-4h2v4z\"/>\n",
              "    </g>\n",
              "</svg>\n",
              "  </button>\n",
              "\n",
              "<style>\n",
              "  .colab-df-quickchart {\n",
              "      --bg-color: #E8F0FE;\n",
              "      --fill-color: #1967D2;\n",
              "      --hover-bg-color: #E2EBFA;\n",
              "      --hover-fill-color: #174EA6;\n",
              "      --disabled-fill-color: #AAA;\n",
              "      --disabled-bg-color: #DDD;\n",
              "  }\n",
              "\n",
              "  [theme=dark] .colab-df-quickchart {\n",
              "      --bg-color: #3B4455;\n",
              "      --fill-color: #D2E3FC;\n",
              "      --hover-bg-color: #434B5C;\n",
              "      --hover-fill-color: #FFFFFF;\n",
              "      --disabled-bg-color: #3B4455;\n",
              "      --disabled-fill-color: #666;\n",
              "  }\n",
              "\n",
              "  .colab-df-quickchart {\n",
              "    background-color: var(--bg-color);\n",
              "    border: none;\n",
              "    border-radius: 50%;\n",
              "    cursor: pointer;\n",
              "    display: none;\n",
              "    fill: var(--fill-color);\n",
              "    height: 32px;\n",
              "    padding: 0;\n",
              "    width: 32px;\n",
              "  }\n",
              "\n",
              "  .colab-df-quickchart:hover {\n",
              "    background-color: var(--hover-bg-color);\n",
              "    box-shadow: 0 1px 2px rgba(60, 64, 67, 0.3), 0 1px 3px 1px rgba(60, 64, 67, 0.15);\n",
              "    fill: var(--button-hover-fill-color);\n",
              "  }\n",
              "\n",
              "  .colab-df-quickchart-complete:disabled,\n",
              "  .colab-df-quickchart-complete:disabled:hover {\n",
              "    background-color: var(--disabled-bg-color);\n",
              "    fill: var(--disabled-fill-color);\n",
              "    box-shadow: none;\n",
              "  }\n",
              "\n",
              "  .colab-df-spinner {\n",
              "    border: 2px solid var(--fill-color);\n",
              "    border-color: transparent;\n",
              "    border-bottom-color: var(--fill-color);\n",
              "    animation:\n",
              "      spin 1s steps(1) infinite;\n",
              "  }\n",
              "\n",
              "  @keyframes spin {\n",
              "    0% {\n",
              "      border-color: transparent;\n",
              "      border-bottom-color: var(--fill-color);\n",
              "      border-left-color: var(--fill-color);\n",
              "    }\n",
              "    20% {\n",
              "      border-color: transparent;\n",
              "      border-left-color: var(--fill-color);\n",
              "      border-top-color: var(--fill-color);\n",
              "    }\n",
              "    30% {\n",
              "      border-color: transparent;\n",
              "      border-left-color: var(--fill-color);\n",
              "      border-top-color: var(--fill-color);\n",
              "      border-right-color: var(--fill-color);\n",
              "    }\n",
              "    40% {\n",
              "      border-color: transparent;\n",
              "      border-right-color: var(--fill-color);\n",
              "      border-top-color: var(--fill-color);\n",
              "    }\n",
              "    60% {\n",
              "      border-color: transparent;\n",
              "      border-right-color: var(--fill-color);\n",
              "    }\n",
              "    80% {\n",
              "      border-color: transparent;\n",
              "      border-right-color: var(--fill-color);\n",
              "      border-bottom-color: var(--fill-color);\n",
              "    }\n",
              "    90% {\n",
              "      border-color: transparent;\n",
              "      border-bottom-color: var(--fill-color);\n",
              "    }\n",
              "  }\n",
              "</style>\n",
              "\n",
              "  <script>\n",
              "    async function quickchart(key) {\n",
              "      const quickchartButtonEl =\n",
              "        document.querySelector('#' + key + ' button');\n",
              "      quickchartButtonEl.disabled = true;  // To prevent multiple clicks.\n",
              "      quickchartButtonEl.classList.add('colab-df-spinner');\n",
              "      try {\n",
              "        const charts = await google.colab.kernel.invokeFunction(\n",
              "            'suggestCharts', [key], {});\n",
              "      } catch (error) {\n",
              "        console.error('Error during call to suggestCharts:', error);\n",
              "      }\n",
              "      quickchartButtonEl.classList.remove('colab-df-spinner');\n",
              "      quickchartButtonEl.classList.add('colab-df-quickchart-complete');\n",
              "    }\n",
              "    (() => {\n",
              "      let quickchartButtonEl =\n",
              "        document.querySelector('#df-d3e765d2-948f-48c5-911a-787e687e6b3c button');\n",
              "      quickchartButtonEl.style.display =\n",
              "        google.colab.kernel.accessAllowed ? 'block' : 'none';\n",
              "    })();\n",
              "  </script>\n",
              "</div>\n",
              "\n",
              "  <div id=\"id_7332b4f8-87ee-4cba-b76d-acc7338645a2\">\n",
              "    <style>\n",
              "      .colab-df-generate {\n",
              "        background-color: #E8F0FE;\n",
              "        border: none;\n",
              "        border-radius: 50%;\n",
              "        cursor: pointer;\n",
              "        display: none;\n",
              "        fill: #1967D2;\n",
              "        height: 32px;\n",
              "        padding: 0 0 0 0;\n",
              "        width: 32px;\n",
              "      }\n",
              "\n",
              "      .colab-df-generate:hover {\n",
              "        background-color: #E2EBFA;\n",
              "        box-shadow: 0px 1px 2px rgba(60, 64, 67, 0.3), 0px 1px 3px 1px rgba(60, 64, 67, 0.15);\n",
              "        fill: #174EA6;\n",
              "      }\n",
              "\n",
              "      [theme=dark] .colab-df-generate {\n",
              "        background-color: #3B4455;\n",
              "        fill: #D2E3FC;\n",
              "      }\n",
              "\n",
              "      [theme=dark] .colab-df-generate:hover {\n",
              "        background-color: #434B5C;\n",
              "        box-shadow: 0px 1px 3px 1px rgba(0, 0, 0, 0.15);\n",
              "        filter: drop-shadow(0px 1px 2px rgba(0, 0, 0, 0.3));\n",
              "        fill: #FFFFFF;\n",
              "      }\n",
              "    </style>\n",
              "    <button class=\"colab-df-generate\" onclick=\"generateWithVariable('dataset')\"\n",
              "            title=\"Generate code using this dataframe.\"\n",
              "            style=\"display:none;\">\n",
              "\n",
              "  <svg xmlns=\"http://www.w3.org/2000/svg\" height=\"24px\"viewBox=\"0 0 24 24\"\n",
              "       width=\"24px\">\n",
              "    <path d=\"M7,19H8.4L18.45,9,17,7.55,7,17.6ZM5,21V16.75L18.45,3.32a2,2,0,0,1,2.83,0l1.4,1.43a1.91,1.91,0,0,1,.58,1.4,1.91,1.91,0,0,1-.58,1.4L9.25,21ZM18.45,9,17,7.55Zm-12,3A5.31,5.31,0,0,0,4.9,8.1,5.31,5.31,0,0,0,1,6.5,5.31,5.31,0,0,0,4.9,4.9,5.31,5.31,0,0,0,6.5,1,5.31,5.31,0,0,0,8.1,4.9,5.31,5.31,0,0,0,12,6.5,5.46,5.46,0,0,0,6.5,12Z\"/>\n",
              "  </svg>\n",
              "    </button>\n",
              "    <script>\n",
              "      (() => {\n",
              "      const buttonEl =\n",
              "        document.querySelector('#id_7332b4f8-87ee-4cba-b76d-acc7338645a2 button.colab-df-generate');\n",
              "      buttonEl.style.display =\n",
              "        google.colab.kernel.accessAllowed ? 'block' : 'none';\n",
              "\n",
              "      buttonEl.onclick = () => {\n",
              "        google.colab.notebook.generateWithVariable('dataset');\n",
              "      }\n",
              "      })();\n",
              "    </script>\n",
              "  </div>\n",
              "\n",
              "    </div>\n",
              "  </div>\n"
            ],
            "text/plain": [
              "       target         ids                          date      flag  \\\n",
              "0           0  1467810369  Mon Apr 06 22:19:45 PDT 2009  NO_QUERY   \n",
              "1           0  1467810672  Mon Apr 06 22:19:49 PDT 2009  NO_QUERY   \n",
              "2           0  1467810917  Mon Apr 06 22:19:53 PDT 2009  NO_QUERY   \n",
              "3           0  1467811184  Mon Apr 06 22:19:57 PDT 2009  NO_QUERY   \n",
              "4           0  1467811193  Mon Apr 06 22:19:57 PDT 2009  NO_QUERY   \n",
              "...       ...         ...                           ...       ...   \n",
              "10995       4  1879942807  Thu May 21 23:36:19 PDT 2009  NO_QUERY   \n",
              "10996       4  1879942922  Thu May 21 23:36:20 PDT 2009  NO_QUERY   \n",
              "10997       4  1879942975  Thu May 21 23:36:21 PDT 2009  NO_QUERY   \n",
              "10998       4  1879943113  Thu May 21 23:36:22 PDT 2009  NO_QUERY   \n",
              "10999       4  1879943219  Thu May 21 23:36:24 PDT 2009  NO_QUERY   \n",
              "\n",
              "                  user                                               text  \n",
              "0      _TheSpecialOne_  @switchfoot http://twitpic.com/2y1zl - Awww, t...  \n",
              "1        scotthamilton  is upset that he can't update his Facebook by ...  \n",
              "2             mattycus  @Kenichan I dived many times for the ball. Man...  \n",
              "3              ElleCTF    my whole body feels itchy and like its on fire   \n",
              "4               Karoli  @nationwideclass no, it's not behaving at all....  \n",
              "...                ...                                                ...  \n",
              "10995          divabat           @healingsinger thank you, i needed that   \n",
              "10996         nick1975  @vactress http://bit.ly/cADea  Maybe this is m...  \n",
              "10997            znmeb  @Brat13 Hell, Windows 7 will be out of my pric...  \n",
              "10998          virmani  @jigardoshi neah.. i wish! just reminiscing  r...  \n",
              "10999       redcomet81  @MsTeagan ...and by the way: I rewatched Sun G...  \n",
              "\n",
              "[11000 rows x 6 columns]"
            ]
          },
          "execution_count": 9,
          "metadata": {},
          "output_type": "execute_result"
        }
      ],
      "source": [
        "len(dataset)\n",
        "dataset"
      ]
    },
    {
      "cell_type": "markdown",
      "metadata": {
        "id": "c0yYrBxmcek_"
      },
      "source": [
        "We can see the values of our dataset here. The tweets which are negative in sense are rated 0 while the ones rated 4 have typically positive tweets.\n"
      ]
    },
    {
      "cell_type": "code",
      "execution_count": null,
      "metadata": {
        "colab": {
          "base_uri": "https://localhost:8080/"
        },
        "id": "FilrOYhp5Pmx",
        "outputId": "9043bf67-9aaa-491f-d90d-55cd9cf4e479"
      },
      "outputs": [
        {
          "data": {
            "text/plain": [
              "array([0, 4])"
            ]
          },
          "execution_count": 9,
          "metadata": {},
          "output_type": "execute_result"
        }
      ],
      "source": [
        "dataset['target'].unique()"
      ]
    },
    {
      "cell_type": "code",
      "execution_count": null,
      "metadata": {
        "id": "0a3IgHbb_qM1"
      },
      "outputs": [],
      "source": [
        "dataset['target'] = dataset['target'].replace(4, 1, inplace = False)"
      ]
    },
    {
      "cell_type": "code",
      "execution_count": null,
      "metadata": {
        "colab": {
          "base_uri": "https://localhost:8080/"
        },
        "id": "GEOhfKtp_qM1",
        "outputId": "b9154ff6-fbfe-4c24-a825-eaa39cac5111"
      },
      "outputs": [
        {
          "data": {
            "text/plain": [
              "array([0, 1])"
            ]
          },
          "execution_count": 11,
          "metadata": {},
          "output_type": "execute_result"
        }
      ],
      "source": [
        "dataset['target'].unique()"
      ]
    },
    {
      "cell_type": "code",
      "execution_count": null,
      "metadata": {
        "id": "ezaAndv9UeZ9"
      },
      "outputs": [],
      "source": [
        "TEXT_CLEANING_RE = \"@\\S+|https?:\\S+|http?:\\S|[^A-Za-z0-9]+\""
      ]
    },
    {
      "cell_type": "code",
      "execution_count": null,
      "metadata": {
        "id": "m0_pa5Z1UoYB"
      },
      "outputs": [],
      "source": [
        "stop_words = nltk.corpus.stopwords.words(\"english\")\n",
        "stemmer = nltk.stem.SnowballStemmer(\"english\")"
      ]
    },
    {
      "cell_type": "code",
      "execution_count": null,
      "metadata": {
        "id": "5nXkzSGJSwEN"
      },
      "outputs": [],
      "source": [
        "#function to remove stopwords, punctuations, and do stemming as part of data preprocessing.\n",
        "def preprocess(text):\n",
        "    text = re.sub(TEXT_CLEANING_RE, ' ', str(text).lower()).strip()\n",
        "    tokens = []\n",
        "    for token in text.split():\n",
        "        if token not in stop_words:\n",
        "          tokens.append(stemmer.stem(token))\n",
        "    return \" \".join(tokens)"
      ]
    },
    {
      "cell_type": "code",
      "execution_count": null,
      "metadata": {
        "id": "qdHoyMBuTPkd"
      },
      "outputs": [],
      "source": [
        "dataset.text = dataset.text.apply(lambda x: preprocess(x))"
      ]
    },
    {
      "cell_type": "code",
      "execution_count": null,
      "metadata": {
        "id": "5_XL1oxFXVaj"
      },
      "outputs": [],
      "source": [
        "TEST_SIZE = 0.2"
      ]
    },
    {
      "cell_type": "code",
      "execution_count": null,
      "metadata": {
        "id": "1nzy5ygohwfA"
      },
      "outputs": [],
      "source": [
        "X = dataset['text'].values\n",
        "Y = dataset['target'].values"
      ]
    },
    {
      "cell_type": "code",
      "execution_count": null,
      "metadata": {
        "colab": {
          "base_uri": "https://localhost:8080/"
        },
        "id": "orMMEAV2TPnk",
        "outputId": "c7464c9e-ef1b-4a7f-e459-11b08e381c22"
      },
      "outputs": [
        {
          "name": "stdout",
          "output_type": "stream",
          "text": [
            "TRAIN size: 8800\n",
            "TEST size: 2200\n"
          ]
        }
      ],
      "source": [
        "X_train,X_test, Y_train, Y_test = train_test_split(X, Y, test_size=TEST_SIZE, random_state=42)\n",
        "print(\"TRAIN size:\", len(X_train))\n",
        "print(\"TEST size:\", len(X_test))"
      ]
    },
    {
      "cell_type": "markdown",
      "metadata": {
        "id": "nd0JhIrCYwZQ"
      },
      "source": [
        "We have pre-processed the data and taken a subset such that our test size is 2200 and train size is 8800 for the tweets. As the tweets were arranged according to the classification, we took tweets at random to ensure the coverage of varied data points.\n",
        "We will now tokenize the data and add it into our X_train and X_test, we are truncating the tweet size to 250 for all the tweets and adding padding incase the tweet size is less than 250."
      ]
    },
    {
      "cell_type": "code",
      "execution_count": null,
      "metadata": {
        "id": "AHWViTGLsqmb"
      },
      "outputs": [],
      "source": [
        "# Tokenize data\n",
        "tokenizer = Tokenizer(num_words=5000)\n",
        "tokenizer.fit_on_texts(X_train)\n",
        "\n",
        "X_train = tokenizer.texts_to_sequences(X_train)\n",
        "X_test = tokenizer.texts_to_sequences(X_test)\n",
        "\n",
        "vocab_size = len(tokenizer.word_index) + 1  # Adding 1 because of reserved 0 index"
      ]
    },
    {
      "cell_type": "code",
      "execution_count": null,
      "metadata": {
        "id": "8VkoYRkEe7VL"
      },
      "outputs": [],
      "source": [
        "max_comment_length = 250\n",
        "X_train = pad_sequences(X_train, padding='pre', maxlen= max_comment_length)\n",
        "X_test = pad_sequences(X_test, padding='pre', maxlen= max_comment_length)\n"
      ]
    },
    {
      "cell_type": "code",
      "execution_count": null,
      "metadata": {
        "id": "NuvO9NjHtL2L"
      },
      "outputs": [],
      "source": [
        "embedding_vector_length = 128"
      ]
    },
    {
      "cell_type": "code",
      "execution_count": null,
      "metadata": {
        "id": "a5cOke0tyhD0"
      },
      "outputs": [],
      "source": [
        "embedding_matrix = tf.Variable(tf.random.uniform([vocab_size, embedding_vector_length], -1.0, 1.0))"
      ]
    },
    {
      "cell_type": "markdown",
      "metadata": {
        "id": "6bwu-oWNlqnh"
      },
      "source": [
        "# Methods"
      ]
    },
    {
      "cell_type": "markdown",
      "metadata": {
        "id": "M5A5j1X9Zz4j"
      },
      "source": [
        "Sentiment analysis serves as a cognitive tool for discerning the emotional expression within a text, and it stands as an actively explored domain in Natural Language Processing. The main focus of sentiment analysis lies in categorizing and predicting users' sentiments from their reviews. In recent years, numerous deep learning techniques have emerged to achieve this task with the Bidirectional LSTM being a notable neural network architecture. This model addresses long-term dependencies by incorporating memory into the model, thereby enhancing its ability to make more accurate predictions.Sentiment is often context-dependent. The same word may have different sentiments based on the words that surround it. Bi-LSTMs, through their bidirectional sequence processing, adeptly capture contextual details. They are capable of learning representations that take into account the influence of both preceding and succeeding words on the sentiment expressed in a particular part of a sentence. In short, Bi-LSTMs are advantageous for sentiment analysis in NLP due to their ability to capture sequential dependencies, handle variable-length sequences, and provide contextual representations that are crucial for understanding sentiment in the context of natural language.\n",
        "\n",
        "BERT, or Bidirectional Encoder Representations from Transformers, represents a breakthrough in natural language processing (NLP) and has revolutionized the field of sentiment analysis. Developed by Google, BERT is a transformer-based model that excels in capturing context and understanding the intricacies of language. Its bidirectional nature allows it to consider both preceding and succeeding words when processing a given word, enabling a more comprehensive comprehension of the context in which words appear.\n",
        "\n",
        "One of BERT's key strengths lies in its pre-training process. BERT is initially trained on a massive corpus of diverse text data, learning to predict missing words in sentences. This unsupervised pre-training imbues BERT with a robust contextual understanding of language, allowing it to grasp subtleties and relationships between words. This pre-trained model can then be fine-tuned on specific tasks, such as sentiment analysis.In the context of sentiment analysis, the fine-tuning process involves training BERT on a labeled dataset where each text is associated with a sentiment label (positive, negative, or neutral). During fine-tuning, BERT adjusts its parameters to better align with the specific sentiment-related patterns present in the training data. This adaptation ensures that BERT becomes proficient in recognizing sentiment cues and nuances relevant to the sentiment analysis task at hand.\n",
        "When applied to sentiment analysis, BERT excels in handling complex sentence structures, idiomatic expressions, and ambiguous language. Unlike traditional sentiment analysis models that rely on bag-of-words or n-gram approaches, BERT considers the entire context of a sentence, making it particularly adept at capturing sentiment in contextually rich language.Moreover, BERT's ability to understand the relationships between words allows it to discern sentiment even in cases where the sentiment-bearing words are not explicitly stated. We have tested this out in our model using sentences like. \"This is not great\" and \"This is not bad\", which often confuse other models but perform well with BERT.This contextual awareness enables BERT to overcome challenges like negations, sarcasm, and sentiment shifts within a sentence.\n",
        "\n",
        "In practical terms, using BERT for sentiment analysis involves integrating the pre-trained BERT model into a sentiment analysis pipeline. This pipeline typically includes tokenization, where the text is broken into individual tokens, and the application of BERT embeddings to represent the contextual information of each token. These embeddings are then fed into a classification layer to predict the sentiment of the input text.The advantages of using BERT in sentiment analysis include its ability to handle various languages, adapt to domain-specific language, and generalize well to different sentiment analysis tasks. However, it's important to note that BERT's computational demands can be substantial, and deployment considerations should account for the resources required.\n",
        "\n",
        "\n",
        "\n"
      ]
    },
    {
      "cell_type": "markdown",
      "metadata": {
        "id": "fiFTlyZztXLo"
      },
      "source": [
        "# Timeline\n",
        "\n",
        "We planned the time for our tasks based on division of tasks.This is the timeline and we were able to finish task as per our timeline with a few adhoc tasks being added\n",
        "\n",
        "|Task | Expected Completion date | Team members |\n",
        "|--- | --- | --- |\n",
        "|Clean and pre-process the dataset| 11-03-2023 | Arsha |\n",
        "|Tokenize and analyze the dataset| 11-05-2023| Shruthi|\n",
        "|Model design using BERT | 11-07-2023 | Shruthi |\n",
        "|Model design using Bidirectional LSTM | 11-07-2023 | Arsha |\n",
        "|Code the models and implement it to check prediction on training data and evaluate using different metrics on the validation dataset | 11-12-2023 | Arsha, Shruthi|\n",
        "|Observe behaviour on test data and fine tune the models for best results | 11-17-2023 | Arsha, Shruthi |\n",
        "|Optimize the models  and finish any existing backlog items and document the parameters | 11-25-2023 | Arsha, Shruthi|"
      ]
    },
    {
      "cell_type": "markdown",
      "metadata": {
        "id": "7dbTzwMQmdf6"
      },
      "source": [
        "We have defined and developed our Bi-directional LSTM model. As can be seen, we have defined our model with multiple layers, used 'relu' activation function and 'sigmoid' for different layers.Using 'relu' for layers introduces non-linearity, allowing the model to learn complex relationships in the data.\n",
        "\n",
        "The use of 'sigmoid' activation function in specific layers, such as the output layer, is suitable for binary classification tasks as it squashes the output between 0 and 1, representing probabilities. We have trained the model for 15 epochs initially, and achieved a validation accuracy of 0.8945 and a loss of 0.69.\n",
        "\n",
        "The embedding layer is used to transform input sequences of discrete data, such as words or categorical features, into continuous vector representations. This layer is particularly crucial when dealing with natural language processing (NLP) tasks, where words need to be represented in a format that is compatible with the mathematical operations performed by neural networks.This layer is trainable and when establishing an Embedding layer, the embedding weights undergo initial random initialization, just like any other layer. Through the training phase, these weights undergo gradual adjustments via backpropagation. Upon completion of training, the acquired word embeddings encapsulate approximate similarities between words, tailored to the specific problem for which the model has been trained. The embedding vector length is set as 128 which means that each word in our top 5000 words is represented by a 128 dimensional vector. Using a higher dimensional vector can help learn the model better, however it will take a lot of time for training. Therefore, we have fixed the value of embedding vector length as 128.\n",
        "\n",
        "We defined the different parameters like epochs = 15, batchsize = 32, learning rate of 0.001.\n"
      ]
    },
    {
      "cell_type": "code",
      "execution_count": null,
      "metadata": {
        "id": "7Bns3Gh3mkap"
      },
      "outputs": [],
      "source": [
        "# Define model\n",
        "model = tf.keras.Sequential([\n",
        "    tf.keras.layers.Embedding(vocab_size, embedding_vector_length , input_length=max_comment_length, embeddings_initializer=tf.keras.initializers.Constant(embedding_matrix), trainable=True),\n",
        "    tf.keras.layers.Bidirectional(tf.keras.layers.LSTM(64, return_sequences= True)),\n",
        "    tf.keras.layers.Bidirectional(tf.keras.layers.LSTM(32)),\n",
        "    tf.keras.layers.Dense(64, activation='relu'),\n",
        "    tf.keras.layers.Dropout(0.2),\n",
        "    tf.keras.layers.Dense(1, activation='sigmoid')\n",
        "])\n",
        "model.compile(optimizer=tf.keras.optimizers.Adam(1e-3),\n",
        "              loss='binary_crossentropy',\n",
        "              metrics=['accuracy'])"
      ]
    },
    {
      "cell_type": "code",
      "execution_count": null,
      "metadata": {
        "id": "ZrfoPORqCHwq"
      },
      "outputs": [],
      "source": [
        "callbacks = [tf.keras.callbacks.EarlyStopping(monitor='val_accuracy', patience=8)]"
      ]
    },
    {
      "cell_type": "code",
      "execution_count": null,
      "metadata": {
        "colab": {
          "base_uri": "https://localhost:8080/"
        },
        "id": "f20t69iomkdH",
        "outputId": "99e3fdec-3b93-42b2-b918-b97917a51fa3"
      },
      "outputs": [
        {
          "name": "stdout",
          "output_type": "stream",
          "text": [
            "Epoch 1/15\n",
            "275/275 [==============================] - 30s 65ms/step - loss: 0.3079 - accuracy: 0.9081 - val_loss: 0.2939 - val_accuracy: 0.9064\n",
            "Epoch 2/15\n",
            "275/275 [==============================] - 11s 41ms/step - loss: 0.2449 - accuracy: 0.9128 - val_loss: 0.2647 - val_accuracy: 0.9118\n",
            "Epoch 3/15\n",
            "275/275 [==============================] - 10s 38ms/step - loss: 0.1807 - accuracy: 0.9350 - val_loss: 0.2733 - val_accuracy: 0.9032\n",
            "Epoch 4/15\n",
            "275/275 [==============================] - 9s 34ms/step - loss: 0.1319 - accuracy: 0.9540 - val_loss: 0.3064 - val_accuracy: 0.8995\n",
            "Epoch 5/15\n",
            "275/275 [==============================] - 10s 35ms/step - loss: 0.0909 - accuracy: 0.9682 - val_loss: 0.4054 - val_accuracy: 0.9023\n",
            "Epoch 6/15\n",
            "275/275 [==============================] - 10s 36ms/step - loss: 0.0603 - accuracy: 0.9783 - val_loss: 0.4529 - val_accuracy: 0.8977\n",
            "Epoch 7/15\n",
            "275/275 [==============================] - 10s 36ms/step - loss: 0.0406 - accuracy: 0.9859 - val_loss: 0.5943 - val_accuracy: 0.8927\n",
            "Epoch 8/15\n",
            "275/275 [==============================] - 9s 33ms/step - loss: 0.0274 - accuracy: 0.9902 - val_loss: 0.6939 - val_accuracy: 0.8909\n",
            "Epoch 9/15\n",
            "275/275 [==============================] - 10s 35ms/step - loss: 0.0191 - accuracy: 0.9933 - val_loss: 0.7110 - val_accuracy: 0.8859\n",
            "Epoch 10/15\n",
            "275/275 [==============================] - 10s 36ms/step - loss: 0.0150 - accuracy: 0.9948 - val_loss: 0.7605 - val_accuracy: 0.8859\n"
          ]
        }
      ],
      "source": [
        "hist = model.fit(X_train, Y_train,\n",
        "                    epochs=15,\n",
        "                    batch_size=32,\n",
        "                    validation_data=(X_test, Y_test), callbacks=callbacks)"
      ]
    },
    {
      "cell_type": "code",
      "execution_count": null,
      "metadata": {
        "colab": {
          "base_uri": "https://localhost:8080/"
        },
        "id": "MUN-wy67HRWG",
        "outputId": "f6896bd4-c44a-4e3b-fc2d-009ff797c4c8"
      },
      "outputs": [
        {
          "name": "stdout",
          "output_type": "stream",
          "text": [
            "69/69 [==============================] - 1s 13ms/step - loss: 0.7605 - accuracy: 0.8859\n",
            "loss=0.7604860067367554 , accuracy=0.8859090805053711\n"
          ]
        }
      ],
      "source": [
        "loss, accuracy = model.evaluate(X_test, Y_test)\n",
        "print(f\"{loss=} , {accuracy=}\")"
      ]
    },
    {
      "cell_type": "markdown",
      "metadata": {
        "id": "a743Ifv0fBFw"
      },
      "source": [
        "The summary of the Bi-LSTM model is given below. It shows the different layers that constitute this model and the number of trainable and non-trainable parameters of this model."
      ]
    },
    {
      "cell_type": "code",
      "execution_count": null,
      "metadata": {
        "colab": {
          "base_uri": "https://localhost:8080/"
        },
        "id": "2KMdc83Tmkfc",
        "outputId": "fa757404-623d-424f-c68c-c031b4b0a056"
      },
      "outputs": [
        {
          "name": "stdout",
          "output_type": "stream",
          "text": [
            "Model: \"sequential\"\n",
            "_________________________________________________________________\n",
            " Layer (type)                Output Shape              Param #   \n",
            "=================================================================\n",
            " embedding (Embedding)       (None, 250, 128)          1339264   \n",
            "                                                                 \n",
            " bidirectional (Bidirection  (None, 250, 128)          98816     \n",
            " al)                                                             \n",
            "                                                                 \n",
            " bidirectional_1 (Bidirecti  (None, 64)                41216     \n",
            " onal)                                                           \n",
            "                                                                 \n",
            " dense (Dense)               (None, 64)                4160      \n",
            "                                                                 \n",
            " dropout (Dropout)           (None, 64)                0         \n",
            "                                                                 \n",
            " dense_1 (Dense)             (None, 1)                 65        \n",
            "                                                                 \n",
            "=================================================================\n",
            "Total params: 1483521 (5.66 MB)\n",
            "Trainable params: 1483521 (5.66 MB)\n",
            "Non-trainable params: 0 (0.00 Byte)\n",
            "_________________________________________________________________\n"
          ]
        }
      ],
      "source": [
        "model.summary()"
      ]
    },
    {
      "cell_type": "code",
      "execution_count": null,
      "metadata": {
        "id": "3WKGvGg7mkhm"
      },
      "outputs": [],
      "source": [
        "def plot_hist(hist):\n",
        "  acc = hist.history['accuracy']\n",
        "  val_acc = hist.history['val_accuracy']\n",
        "\n",
        "  loss = hist.history['loss']\n",
        "  val_loss = hist.history['val_loss']\n",
        "\n",
        "  plt.figure(figsize=(8, 5))\n",
        "  plt.subplot(2, 1, 1)\n",
        "  plt.plot(acc, label='Training Accuracy')\n",
        "  plt.plot(val_acc, label='Validation Accuracy')\n",
        "  plt.legend(loc='lower right')\n",
        "  plt.ylabel('Accuracy')\n",
        "  plt.ylim([min(plt.ylim()),1])\n",
        "  plt.title('Training and Validation Accuracy')\n",
        "\n",
        "  plt.subplot(2, 1, 2)\n",
        "  plt.plot(loss, label='Training Loss')\n",
        "  plt.plot(val_loss, label='Validation Loss')\n",
        "  plt.legend(loc='upper right')\n",
        "  plt.ylabel('Cross Entropy')\n",
        "  plt.ylim([0,2.0])\n",
        "  plt.title('Training and Validation Loss')\n",
        "  plt.xlabel('epoch')\n",
        "  plt.show()"
      ]
    },
    {
      "cell_type": "code",
      "execution_count": null,
      "metadata": {
        "colab": {
          "base_uri": "https://localhost:8080/",
          "height": 487
        },
        "id": "C1UC7IrscvIs",
        "outputId": "95687a18-07c6-49be-b67b-6d1b655f4b2c"
      },
      "outputs": [
        {
          "data": {
            "image/png": "[encoded data removed]",
            "text/plain": [
              "<Figure size 800x500 with 2 Axes>"
            ]
          },
          "metadata": {},
          "output_type": "display_data"
        }
      ],
      "source": [
        "plot_hist(hist)"
      ]
    },
    {
      "cell_type": "markdown",
      "metadata": {
        "id": "aN8GaiiLfRsL"
      },
      "source": [
        "This model uses a higher dropout rate of 0.4 to try to tackle overfitting seen in the previous model. A different activation function 'gelu' is used in the dense layer to try to see its impact on accuracy. Also, a different optimizater RMSprop is used with the same learning rate of 0.001"
      ]
    },
    {
      "cell_type": "code",
      "execution_count": null,
      "metadata": {
        "id": "bkp-ASZnF79e"
      },
      "outputs": [],
      "source": [
        "model1 = tf.keras.Sequential([\n",
        "    tf.keras.layers.Embedding(vocab_size, embedding_vector_length , input_length=max_comment_length, embeddings_initializer=tf.keras.initializers.Constant(embedding_matrix), trainable=True),\n",
        "    tf.keras.layers.Bidirectional(tf.keras.layers.LSTM(64, return_sequences= True)),\n",
        "    tf.keras.layers.Bidirectional(tf.keras.layers.LSTM(32)),\n",
        "    tf.keras.layers.Dense(64, activation='gelu'),\n",
        "    tf.keras.layers.Dropout(0.4),\n",
        "    tf.keras.layers.Dense(1, activation='sigmoid')\n",
        "])\n",
        "model1.compile(optimizer=tf.keras.optimizers.RMSprop(1e-3),\n",
        "              loss='binary_crossentropy',\n",
        "              metrics=['accuracy'])"
      ]
    },
    {
      "cell_type": "code",
      "execution_count": null,
      "metadata": {
        "colab": {
          "base_uri": "https://localhost:8080/"
        },
        "id": "wsI0hM5ZF8Cc",
        "outputId": "bd11ef7d-44d2-4faa-874a-6b96409ef872"
      },
      "outputs": [
        {
          "name": "stdout",
          "output_type": "stream",
          "text": [
            "Epoch 1/15\n",
            "275/275 [==============================] - 21s 56ms/step - loss: 0.3145 - accuracy: 0.9069 - val_loss: 0.3053 - val_accuracy: 0.9064\n",
            "Epoch 2/15\n",
            "275/275 [==============================] - 9s 34ms/step - loss: 0.2885 - accuracy: 0.9098 - val_loss: 0.2858 - val_accuracy: 0.9064\n",
            "Epoch 3/15\n",
            "275/275 [==============================] - 10s 35ms/step - loss: 0.2608 - accuracy: 0.9130 - val_loss: 0.2770 - val_accuracy: 0.9100\n",
            "Epoch 4/15\n",
            "275/275 [==============================] - 10s 36ms/step - loss: 0.2335 - accuracy: 0.9189 - val_loss: 0.2736 - val_accuracy: 0.9027\n",
            "Epoch 5/15\n",
            "275/275 [==============================] - 9s 31ms/step - loss: 0.2027 - accuracy: 0.9295 - val_loss: 0.2924 - val_accuracy: 0.9091\n",
            "Epoch 6/15\n",
            "275/275 [==============================] - 10s 35ms/step - loss: 0.1732 - accuracy: 0.9386 - val_loss: 0.3251 - val_accuracy: 0.9059\n",
            "Epoch 7/15\n",
            "275/275 [==============================] - 9s 34ms/step - loss: 0.1398 - accuracy: 0.9494 - val_loss: 0.3567 - val_accuracy: 0.9009\n",
            "Epoch 8/15\n",
            "275/275 [==============================] - 9s 33ms/step - loss: 0.1051 - accuracy: 0.9638 - val_loss: 0.4409 - val_accuracy: 0.8932\n",
            "Epoch 9/15\n",
            "275/275 [==============================] - 9s 34ms/step - loss: 0.0748 - accuracy: 0.9739 - val_loss: 0.5378 - val_accuracy: 0.9032\n",
            "Epoch 10/15\n",
            "275/275 [==============================] - 10s 35ms/step - loss: 0.0572 - accuracy: 0.9807 - val_loss: 0.6766 - val_accuracy: 0.8991\n",
            "Epoch 11/15\n",
            "275/275 [==============================] - 9s 34ms/step - loss: 0.0428 - accuracy: 0.9861 - val_loss: 0.7523 - val_accuracy: 0.8845\n"
          ]
        }
      ],
      "source": [
        "hist1 = model1.fit(X_train, Y_train,\n",
        "                    epochs=15,\n",
        "                    batch_size=32,\n",
        "                    validation_data=(X_test, Y_test), callbacks=callbacks)"
      ]
    },
    {
      "cell_type": "code",
      "execution_count": null,
      "metadata": {
        "colab": {
          "base_uri": "https://localhost:8080/"
        },
        "id": "Je3vDiTdF8DW",
        "outputId": "80edfdf0-60bd-4ef9-fc01-243374a9ad4a"
      },
      "outputs": [
        {
          "name": "stdout",
          "output_type": "stream",
          "text": [
            "69/69 [==============================] - 1s 15ms/step - loss: 0.7523 - accuracy: 0.8845\n",
            "loss=0.7523355484008789 , accuracy=0.8845454454421997\n"
          ]
        }
      ],
      "source": [
        "loss, accuracy = model1.evaluate(X_test, Y_test)\n",
        "print(f\"{loss=} , {accuracy=}\")"
      ]
    },
    {
      "cell_type": "code",
      "execution_count": null,
      "metadata": {
        "colab": {
          "base_uri": "https://localhost:8080/",
          "height": 487
        },
        "id": "sPoyYVrxcYU_",
        "outputId": "399c5791-2cd1-4fcf-b933-22f426ac6fc7"
      },
      "outputs": [
        {
          "data": {
            "image/png": "[encoded data removed]",
            "text/plain": [
              "<Figure size 800x500 with 2 Axes>"
            ]
          },
          "metadata": {},
          "output_type": "display_data"
        }
      ],
      "source": [
        "plot_hist(hist1)"
      ]
    },
    {
      "cell_type": "markdown",
      "metadata": {
        "id": "d-NrOYOmf0zt"
      },
      "source": [
        "This model uses an even more higher dropout rate of 0.55. Adam optimizer is used again with a slower learning at a learning rate of 0.0001 and is trained for more epochs. Early stopping is provided with fewer patience epochs."
      ]
    },
    {
      "cell_type": "code",
      "execution_count": null,
      "metadata": {
        "id": "y2SSoD97M-kY"
      },
      "outputs": [],
      "source": [
        "model2 = tf.keras.Sequential([\n",
        "    tf.keras.layers.Embedding(vocab_size, embedding_vector_length , input_length=max_comment_length, embeddings_initializer=tf.keras.initializers.Constant(embedding_matrix), trainable=True),\n",
        "    tf.keras.layers.Bidirectional(tf.keras.layers.LSTM(64, return_sequences= True)),\n",
        "    tf.keras.layers.Bidirectional(tf.keras.layers.LSTM(32)),\n",
        "    tf.keras.layers.Dense(64, activation='gelu'),\n",
        "    tf.keras.layers.Dropout(0.55),\n",
        "    tf.keras.layers.Dense(1, activation='sigmoid')\n",
        "])\n",
        "model2.compile(optimizer=tf.keras.optimizers.Adam(1e-4),\n",
        "              loss='binary_crossentropy',\n",
        "              metrics=['accuracy'])"
      ]
    },
    {
      "cell_type": "code",
      "execution_count": null,
      "metadata": {
        "colab": {
          "base_uri": "https://localhost:8080/"
        },
        "id": "iFH3QyhqOKd1",
        "outputId": "38886436-fd3a-4c84-eb2a-9267b5ffa993"
      },
      "outputs": [
        {
          "name": "stdout",
          "output_type": "stream",
          "text": [
            "Epoch 1/17\n",
            "275/275 [==============================] - 33s 71ms/step - loss: 0.3419 - accuracy: 0.9080 - val_loss: 0.3116 - val_accuracy: 0.9064\n",
            "Epoch 2/17\n",
            "275/275 [==============================] - 11s 42ms/step - loss: 0.3126 - accuracy: 0.9098 - val_loss: 0.3104 - val_accuracy: 0.9064\n",
            "Epoch 3/17\n",
            "275/275 [==============================] - 10s 36ms/step - loss: 0.3098 - accuracy: 0.9098 - val_loss: 0.3093 - val_accuracy: 0.9064\n",
            "Epoch 4/17\n",
            "275/275 [==============================] - 10s 37ms/step - loss: 0.3072 - accuracy: 0.9098 - val_loss: 0.3086 - val_accuracy: 0.9064\n",
            "Epoch 5/17\n",
            "275/275 [==============================] - 11s 38ms/step - loss: 0.3029 - accuracy: 0.9098 - val_loss: 0.3014 - val_accuracy: 0.9064\n",
            "Epoch 6/17\n",
            "275/275 [==============================] - 10s 38ms/step - loss: 0.2907 - accuracy: 0.9098 - val_loss: 0.2886 - val_accuracy: 0.9064\n"
          ]
        }
      ],
      "source": [
        "hist2 = model2.fit(X_train, Y_train,\n",
        "                    epochs=17,\n",
        "                    batch_size=32,\n",
        "                    validation_data=(X_test, Y_test), callbacks=[tf.keras.callbacks.EarlyStopping(monitor='val_accuracy', patience=5)])"
      ]
    },
    {
      "cell_type": "code",
      "execution_count": null,
      "metadata": {
        "colab": {
          "base_uri": "https://localhost:8080/"
        },
        "id": "WCB9dOttOYjd",
        "outputId": "80882676-e3a5-479a-fc0c-e3b69c93aff9"
      },
      "outputs": [
        {
          "name": "stdout",
          "output_type": "stream",
          "text": [
            "69/69 [==============================] - 1s 14ms/step - loss: 0.2886 - accuracy: 0.9064\n",
            "loss=0.28856709599494934 , accuracy=0.9063636660575867\n"
          ]
        }
      ],
      "source": [
        "loss, accuracy = model2.evaluate(X_test, Y_test)\n",
        "print(f\"{loss=} , {accuracy=}\")"
      ]
    },
    {
      "cell_type": "code",
      "execution_count": null,
      "metadata": {
        "colab": {
          "base_uri": "https://localhost:8080/",
          "height": 487
        },
        "id": "4hkX9JqFOKgO",
        "outputId": "d1a42edf-0c75-4392-f0d2-df0596ba705a"
      },
      "outputs": [
        {
          "data": {
            "image/png": "[encoded data removed]",
            "text/plain": [
              "<Figure size 800x500 with 2 Axes>"
            ]
          },
          "metadata": {},
          "output_type": "display_data"
        }
      ],
      "source": [
        "plot_hist(hist2)"
      ]
    },
    {
      "cell_type": "code",
      "execution_count": null,
      "metadata": {
        "id": "HQ_ydCxrOKj3"
      },
      "outputs": [],
      "source": []
    },
    {
      "cell_type": "markdown",
      "metadata": {
        "id": "hXF93ik_a8Uk"
      },
      "source": [
        "#Results\n"
      ]
    },
    {
      "cell_type": "markdown",
      "metadata": {
        "id": "w5XzEbMqbC_X"
      },
      "source": [
        "LSTM ANALYSIS:\n",
        "\n",
        "In analyzing the performance of the LSTM bidirectional model, it's evident that the achieved accuracy of 89% in model 1 is promising, reflecting the model's ability to correctly classify sentiments in a majority of cases. However, the corresponding loss value of 0.73 unveils a potential concern, a significant discrepancy between the predicted and actual sentiments during training.\n",
        "The elevated loss value suggests a case of overfitting, where the model may have become too tailored to the intricacies of the training data, hindering its ability to generalize well to new, unseen instances. Overfitting occurs when a model captures noise or specific patterns in the training data that do not apply to the broader dataset. Despite the commendable accuracy, the high loss signals that the model might struggle when exposed to different variations of sentiment expressions. To address this overfitting concern, hyperparameter tuning becomes imperative. Adjusting parameters such as the number of epochs, dropout rates, learning rates, and layer sizes can help strike a better balance between model complexity and generalization. By fine-tuning these parameters, the model can learn more robust and representative features, improving its ability to classify sentiments accurately on unseen data. Early stopping has also been used to reduce overfitting and improve generalization of the model. This involves continuous monitoring of the model's performance on a validation dataset throughout the training phase, with the training process being halted as soon as signs of performance deterioration manifest. The first two models adopted a patience parameter of 8 epochs to diligently observe and assess the validation accuracy. In contrast, the third model, utilizing a patience of merely 5 epochs, demonstrated notable success by achieving a remarkable validation accuracy of 90%, accompanied by a concurrent reduction in loss to 28%. Dropout rate of the dropout layer was also increased to 55% to reduce overfitting.\n",
        "There also does not seem to be much impact on the model accuracy with changes in optimizer and activation functions. We have tried with Adam and RMSprop optimizers. The activations experimented with on the dense layer are 'relu' and 'gelu'.\n",
        "\n",
        "A notable observation is the impact of dataset size on model performance. Initially developing the model on a dataset comprising 1.6 million tweets showed promising results. However, due to the associated challenges of extensive computational requirements and time constraints, it became apparent that working with such a large dataset hindered the feasibility of hyperparameter tuning. Reducing the dataset size not only alleviated computational demands but also resulted in an improvement in model accuracy.\n",
        "This scenario highlights a classic case of overfitting due to limited data. Training on a smaller dataset might have constrained the model's learning capabilities and classification prowess. Balancing the dataset size with the model's complexity is crucial for achieving optimal performance.In moving forward, dedicating efforts to hyperparameter tuning, potentially leveraging techniques like cross-validation, and experimenting with different dataset sizes could lead to a more refined LSTM bidirectional model. This iterative process of experimentation and fine-tuning is essential for developing a robust sentiment analysis model that can generalize well across diverse sentiments in real-world scenarios.\n",
        "\n",
        "\n",
        "\n",
        "BERT Analysis:\n",
        "\n",
        "In our BERT sentiment analysis implementation, we conducted experiments using both AdamW and SGD optimizers, each trained for 20 epochs, with a pre-trained BERT model. Despite the relatively modest dataset size of 6000 tweets, our findings showcase promising results. The AdamW optimizer demonstrated slightly superior performance compared to SGD, achieving an accuracy of 88.9% with a loss of 0.137. These metrics were pivotal in assessing the model's overall performance.\n",
        "\n",
        "The choice of utilizing a pre-trained BERT model signifies our approach to leveraging transfer learning, allowing the model to benefit from pre-existing knowledge acquired on a large corpus. This methodology enhances the model's capacity to understand intricate language nuances and effectively captures contextual information. The accuracy of 83% on a limited dataset suggests the adaptability and effectiveness of the BERT model, even when trained on a relatively smaller volume of tweets. These outcomes highlight the robustness of the BERT transformer architecture and its ability to provide meaningful sentiment analysis insights across diverse datasets.\n",
        "\n",
        "With a smaller dataset, our BERT accuracy was very high but as we expanded our dataset to 10000 tweets, the accuracy fell drastically to less than 60%. This could be because our parameters were not fine-tuned to the model.\n",
        "\n",
        "In our exploration of different optimizers for the BERT model, the observed variations in accuracy and performance were subtle, with a marginal favorability towards the AdamW optimizer over SGD. While the number of epochs exhibited a positive influence on the model's performance, the significance of this improvement was overshadowed by the impact of the learning rate. Notably, the model's accuracy appeared notably sensitive to the choice of the learning rate.\n",
        "This consistency in accuracy, particularly when facing large learning rates, may suggest that the model could converge to constant values, potentially limiting its adaptability. Furthermore, the relatively smaller dataset used for training and classification could contribute to this phenomenon. The insufficient exposure to diverse instances might hinder the model's ability to generalize effectively.\n",
        "Addressing these observations underscores the potential for hyperparameter tuning to fine-tune the BERT model, optimizing its performance by carefully adjusting parameters like learning rate. In-depth exploration and experimentation with various hyperparameters can unveil the model's latent potential and enhance its capacity to discern nuanced patterns within the sentiment analysis task.\n",
        "\n",
        "EVALUATION.\n",
        "\n",
        "We have decided to use Accuracy and Loss value as metrics of evaluation for the two models.\n",
        "\n",
        "BERT, with an impressive accuracy of 0.83, showcases its proficiency in understanding and classifying sentiments accurately. The high accuracy is particularly notable given BERT's ability to consider contextual nuances within sentences, as evidenced by its adept handling of nuanced statements like \"I don't like this.\" The model's capacity to capture the subtleties of language contributes to its success in sentiment classification.However, the observed accuracy drop to 60% for a larger dataset raises considerations. This decline could be attributed to the need for fine-tuning BERT on larger and more diverse datasets. BERT's pre-trained knowledge might not fully align with the characteristics of the expanded dataset, emphasizing the importance of adapting the model to different data distributions.The remarkably low loss value of 0.137 for a smaller dataset of 6000 tweets indicates that BERT is not only accurate but also exhibits efficient learning. The loss function, reflecting the disparity between predicted and actual sentiments during training, underscores the model's robust performance in minimizing errors.In contrast, the Bi-directional LSTM model achieves a commendable accuracy of 89% for a dataset of 10,000 tweets. This high accuracy is indicative of the model's effectiveness in capturing sentiment patterns, particularly in the context of the larger dataset. However, the elevated loss value of 0.79 suggests a potential case of overfitting.Overfitting occurs when a model learns the training data too well, capturing noise and idiosyncrasies that may not generalize to new data. While the Bi-directional LSTM performs well on the training set, the high loss value implies a lack of generalization, limiting its ability to accurately classify sentiments in unseen instances.\n",
        "\n",
        "\n",
        "Thus,if a user has simple classification problem like just classification based on singular words etc, LSTM would be the best fit for them even with larger datasets, it can provide a much better evaluation whilst a user wanting to perform complex classifications may need to use BERT.\n",
        "\n",
        "\n",
        "\n",
        "\n",
        "\n",
        "\n"
      ]
    },
    {
      "cell_type": "code",
      "execution_count": null,
      "metadata": {
        "id": "cACwmYXmF8JN"
      },
      "outputs": [],
      "source": [
        "def get_sentiment(score, include_neutral = False):\n",
        "  if include_neutral == True:\n",
        "    sentiment = 'Neutral'\n",
        "    if score <= SENTIMENT_THRESHOLDS[0]:\n",
        "      sentiment = 'Negative'\n",
        "    elif score >= SENTIMENT_THRESHOLDS[1]:\n",
        "      sentiment = 'Positive'\n",
        "  else:\n",
        "    if score<0.5:\n",
        "      sentiment = 'Negative'\n",
        "    else:\n",
        "      sentiment = 'Positive'\n",
        "\n",
        "  return sentiment\n",
        "\n",
        "\n"
      ]
    },
    {
      "cell_type": "code",
      "execution_count": null,
      "metadata": {
        "id": "4fa-2zcJF8NZ"
      },
      "outputs": [],
      "source": [
        "def predict(text):\n",
        "    x_test = pad_sequences(tokenizer.texts_to_sequences([text]), maxlen=max_comment_length)\n",
        "    score = model.predict([x_test])[0]\n",
        "    label = get_sentiment(score)\n",
        "    return {\"label\": label, \"score\": float(score)}"
      ]
    },
    {
      "cell_type": "code",
      "execution_count": null,
      "metadata": {
        "id": "uH8gI0QRF8OS"
      },
      "outputs": [],
      "source": [
        "import itertools\n",
        "from sklearn.metrics import confusion_matrix, classification_report, accuracy_score\n",
        "def plot_confusion_matrix(cm, classes,\n",
        "                          title='Confusion matrix',\n",
        "                          cmap=plt.cm.Blues):\n",
        "\n",
        "    cm = cm.astype('float') / cm.sum(axis=1)[:, np.newaxis]\n",
        "\n",
        "    plt.imshow(cm, interpolation='nearest', cmap=cmap)\n",
        "    plt.title(title, fontsize=20)\n",
        "    plt.colorbar()\n",
        "    tick_marks = np.arange(len(classes))\n",
        "    plt.xticks(tick_marks, classes, fontsize=13)\n",
        "    plt.yticks(tick_marks, classes, fontsize=13)\n",
        "\n",
        "    fmt = '.2f'\n",
        "    thresh = cm.max() / 2.\n",
        "    for i, j in itertools.product(range(cm.shape[0]), range(cm.shape[1])):\n",
        "        plt.text(j, i, format(cm[i, j], fmt),\n",
        "                 horizontalalignment=\"center\",\n",
        "                 color=\"white\" if cm[i, j] > thresh else \"black\")\n",
        "\n",
        "    plt.ylabel('True label', fontsize=17)\n",
        "    plt.xlabel('Predicted label', fontsize=17)"
      ]
    },
    {
      "cell_type": "code",
      "execution_count": null,
      "metadata": {
        "colab": {
          "base_uri": "https://localhost:8080/"
        },
        "id": "8JXdf4M5Pe9E",
        "outputId": "6f9e6909-719f-4d3e-81e3-98e51cc3efbc"
      },
      "outputs": [
        {
          "name": "stdout",
          "output_type": "stream",
          "text": [
            "69/69 [==============================] - 2s 14ms/step\n"
          ]
        }
      ],
      "source": [
        "scores = model1.predict(X_test, verbose=1)\n",
        "pred_sentiment = [get_sentiment(score) for score in scores]\n",
        "actual_sentiment = [get_sentiment(value) for value in Y_test]"
      ]
    },
    {
      "cell_type": "code",
      "execution_count": null,
      "metadata": {
        "colab": {
          "base_uri": "https://localhost:8080/",
          "height": 511
        },
        "id": "93VTMGVrF8Rp",
        "outputId": "4d9d3699-e614-4052-8850-295498a41971"
      },
      "outputs": [
        {
          "data": {
            "image/png": "[encoded data removed]",
            "text/plain": [
              "<Figure size 600x600 with 2 Axes>"
            ]
          },
          "metadata": {},
          "output_type": "display_data"
        }
      ],
      "source": [
        "cnf_matrix = confusion_matrix(actual_sentiment, pred_sentiment)\n",
        "plt.figure(figsize=(6,6))\n",
        "plot_confusion_matrix(cnf_matrix, classes=['Negative','Positive'], title=\"Confusion matrix\")\n",
        "plt.show()"
      ]
    },
    {
      "cell_type": "code",
      "execution_count": null,
      "metadata": {
        "colab": {
          "base_uri": "https://localhost:8080/"
        },
        "id": "0D8socvomkkG",
        "outputId": "8ff2ac8b-602b-4f8b-afa2-52fe04361338"
      },
      "outputs": [
        {
          "name": "stdout",
          "output_type": "stream",
          "text": [
            "              precision    recall  f1-score   support\n",
            "\n",
            "    Negative       0.36      0.29      0.32       206\n",
            "    Positive       0.93      0.95      0.94      1994\n",
            "\n",
            "    accuracy                           0.88      2200\n",
            "   macro avg       0.64      0.62      0.63      2200\n",
            "weighted avg       0.87      0.88      0.88      2200\n",
            "\n"
          ]
        }
      ],
      "source": [
        "print(classification_report(actual_sentiment, pred_sentiment))"
      ]
    },
    {
      "cell_type": "code",
      "execution_count": null,
      "metadata": {
        "colab": {
          "base_uri": "https://localhost:8080/"
        },
        "id": "SiqL9sfqmkoq",
        "outputId": "f72a27ad-c872-461b-992e-e67a24d21f28"
      },
      "outputs": [
        {
          "data": {
            "text/plain": [
              "0.8845454545454545"
            ]
          },
          "execution_count": 44,
          "metadata": {},
          "output_type": "execute_result"
        }
      ],
      "source": [
        "accuracy_score(actual_sentiment, pred_sentiment)"
      ]
    },
    {
      "cell_type": "markdown",
      "metadata": {
        "id": "ZJcWjM4yJxdX"
      },
      "source": [
        "# Conclusion"
      ]
    },
    {
      "cell_type": "markdown",
      "metadata": {
        "id": "faN1-21n8ZYV"
      },
      "source": [
        "\n",
        "The unexpected lower accuracy observed with BERT in our sentiment analysis project can be attributed to several key factors that have shaped our experimentation and model fine-tuning process.\n",
        "\n",
        "Firstly, the sheer size of the dataset utilized in the initial training phase, consisting of 1.6 million tweets, presented a substantial challenge. Working with such an extensive dataset proved to be computationally intensive and time-consuming during the preprocessing stage. The sheer volume of data required over four hours for basic preprocessing tasks, leading to constraints on computational resources and making it impractical to experiment with multiple models or fine-tune parameters effectively.The scale of the dataset also posed challenges during training, hindering our ability to run models for an extended number of epochs or conduct thorough parameter tuning. As a result, the models lacked the opportunity to learn intricate patterns and relationships within the data due to the limitations imposed by the large dataset size.\n",
        "\n",
        "While experimenting with two different BERT models and adjusting hyperparameters such as the number of epochs and learning rates, we encountered challenges in achieving conclusive results. Fine-tuning such parameters is crucial for optimizing model performance, but the extensive dataset and resource constraints limited our ability to conduct comprehensive experiments.Despite BERT's remarkable capability to understand nuanced sentiments, especially evident in its classification of statements like \"I am not great,\" challenges emerged when faced with more complex statements. This complexity may have contributed to misclassifications, underscoring the importance of contextual understanding and the inherent limitations of pre-trained models.Moreover, configuring and running the BERT model presented additional hurdles. The computational demands associated with BERT's architecture made the training and validation processes demanding. The intricate nature of the model required careful consideration of hardware capabilities and optimization strategies to ensure efficient execution.\n",
        "\n",
        "In moving forward, addressing these challenges necessitates a strategic approach. Subsampling the dataset to a manageable size for effective experimentation, optimizing preprocessing pipelines, and considering advanced techniques for model training and validation with BERT can potentially enhance both efficiency and performance. Balancing computational demands with experimental flexibility will be crucial for achieving meaningful insights and refining the sentiment analysis model based on the capabilities of the BERT transformer."
      ]
    },
    {
      "cell_type": "markdown",
      "metadata": {
        "id": "SNnNizh9_G-4"
      },
      "source": [
        "[1] https://github.com/chriskhanhtran/bert-for-sentiment-analysis\n",
        "\n",
        "[2] https://www.kaggle.com/datasets/kazanova/sentiment140\n",
        "\n",
        "[3] Nasukawa ,T. & Yi, J. 2003. Sentiment analysis:\n",
        "capturing favorability using natural language processing.\n",
        "In Proceedings of the 2nd international conference on\n",
        "Knowledge capture, October 23–25, 2003. (pp. 70–77).\n",
        "Florida, USA\n",
        "\n",
        "[4] Sutskever, I., Vinyals, O. and Le, Q.V. Sequence to sequence learning with neural networks. In Advances in neural\n",
        "information processing systems (pp. 3104-3112), 2014."
      ]
    },
    {
      "cell_type": "code",
      "execution_count": null,
      "metadata": {
        "colab": {
          "base_uri": "https://localhost:8080/",
          "height": 252
        },
        "id": "9Avwt56aB5Wi",
        "outputId": "2a5c944d-4a03-4832-b1f5-9093918e422b"
      },
      "outputs": [
        {
          "name": "stdout",
          "output_type": "stream",
          "text": [
            "Word count for file FinalProjectReport.ipynb is 3870\n"
          ]
        }
      ],
      "source": [
        "import io\n",
        "import nbformat\n",
        "import glob\n",
        "nbfile = glob.glob('FinalProjectReport.ipynb')\n",
        "if len(nbfile) > 1:\n",
        "    print('More than one ipynb file. Using the first one.  nbfile=', nbfile)\n",
        "with io.open(nbfile[0], 'r', encoding='utf-8') as f:\n",
        "    nb = nbformat.read(f, nbformat.NO_CONVERT)\n",
        "word_count = 0\n",
        "for cell in nb.cells:\n",
        "    if cell.cell_type == \"markdown\":\n",
        "        word_count += len(cell['source'].replace('#', '').lstrip().split(' '))\n",
        "print('Word count for file', nbfile[0], 'is', word_count)"
      ]
    },
    {
      "cell_type": "code",
      "execution_count": null,
      "metadata": {
        "id": "OtE__o_VfXVv"
      },
      "outputs": [],
      "source": []
    }
  ],
  "metadata": {
    "accelerator": "GPU",
    "colab": {
      "gpuType": "T4",
      "provenance": []
    },
    "kernelspec": {
      "display_name": "Python 3 (ipykernel)",
      "language": "python",
      "name": "python3"
    },
    "language_info": {
      "codemirror_mode": {
        "name": "ipython",
        "version": 3
      },
      "file_extension": ".py",
      "mimetype": "text/x-python",
      "name": "python",
      "nbconvert_exporter": "python",
      "pygments_lexer": "ipython3",
      "version": "3.11.4"
    }
  },
  "nbformat": 4,
  "nbformat_minor": 0
}